{
 "cells": [
  {
   "cell_type": "markdown",
   "id": "f3b35cae",
   "metadata": {},
   "source": [
    "# Tugas Supervised Learning \n",
    "# Kecerdasan Buatan 2023/2024"
   ]
  },
  {
   "cell_type": "markdown",
   "id": "9a969910",
   "metadata": {},
   "source": [
    "Berikut adalah contoh aplikasi supervised learning untuk melakukan klasifikasi pada sebuah Dataset"
   ]
  },
  {
   "cell_type": "markdown",
   "id": "4bf1fb8c",
   "metadata": {},
   "source": [
    "Beberapa library yang harus diinstal dan disiapkan\n",
    "1. Sklearn (pip install scikit-learn)\n",
    "2. Pandas\n",
    "3. Numpy\n",
    "4. Matplotlib"
   ]
  },
  {
   "cell_type": "markdown",
   "id": "f794b707",
   "metadata": {},
   "source": [
    "===================================================================================================="
   ]
  },
  {
   "cell_type": "markdown",
   "id": "b193d9c8",
   "metadata": {},
   "source": [
    "### Import beberapa library yang akan kita gunakan"
   ]
  },
  {
   "cell_type": "code",
   "execution_count": 2,
   "id": "4a44fea0",
   "metadata": {},
   "outputs": [],
   "source": [
    "from sklearn.neighbors import KNeighborsClassifier\n",
    "from sklearn.naive_bayes import GaussianNB\n",
    "from sklearn.model_selection import train_test_split\n",
    "from sklearn.metrics import classification_report\n",
    "from sklearn.metrics import accuracy_score"
   ]
  },
  {
   "cell_type": "markdown",
   "id": "f55f69c3",
   "metadata": {},
   "source": [
    "### Download dataset dan import kedalam code "
   ]
  },
  {
   "cell_type": "markdown",
   "id": "16c5f4fd",
   "metadata": {},
   "source": [
    "Dataset yang kita gunakan adalah dataset hepatitis dari https://archive.ics.uci.edu/dataset/46/hepatitis"
   ]
  },
  {
   "cell_type": "code",
   "execution_count": 1,
   "id": "cf38aea3",
   "metadata": {},
   "outputs": [
    {
     "name": "stdout",
     "output_type": "stream",
     "text": [
      "{'uci_id': 46, 'name': 'Hepatitis', 'repository_url': 'https://archive.ics.uci.edu/dataset/46/hepatitis', 'data_url': 'https://archive.ics.uci.edu/static/public/46/data.csv', 'abstract': 'From G.Gong: CMU; Mostly Boolean or numeric-valued attribute types; Includes cost data (donated by Peter Turney)', 'area': 'Health and Medicine', 'tasks': ['Classification'], 'characteristics': ['Multivariate'], 'num_instances': 155, 'num_features': 19, 'feature_types': ['Categorical', 'Integer', 'Real'], 'demographics': [], 'target_col': ['Class'], 'index_col': None, 'has_missing_values': 'yes', 'missing_values_symbol': 'NaN', 'year_of_dataset_creation': 1983, 'last_updated': 'Fri Nov 03 2023', 'dataset_doi': '10.24432/C5Q59J', 'creators': [], 'intro_paper': None, 'additional_info': {'summary': 'Please ask Gail Gong for further information on this database.', 'purpose': None, 'funded_by': None, 'instances_represent': None, 'recommended_data_splits': None, 'sensitive_data': None, 'preprocessing_description': None, 'variable_info': '     1. Class: DIE, LIVE\\r\\n     2. AGE: 10, 20, 30, 40, 50, 60, 70, 80\\r\\n     3. SEX: male, female\\r\\n     4. STEROID: no, yes\\r\\n     5. ANTIVIRALS: no, yes\\r\\n     6. FATIGUE: no, yes\\r\\n     7. MALAISE: no, yes\\r\\n     8. ANOREXIA: no, yes\\r\\n     9. LIVER BIG: no, yes\\r\\n    10. LIVER FIRM: no, yes\\r\\n    11. SPLEEN PALPABLE: no, yes\\r\\n    12. SPIDERS: no, yes\\r\\n    13. ASCITES: no, yes\\r\\n    14. VARICES: no, yes\\r\\n    15. BILIRUBIN: 0.39, 0.80, 1.20, 2.00, 3.00, 4.00\\r\\n        -- see the note below\\r\\n    16. ALK PHOSPHATE: 33, 80, 120, 160, 200, 250\\r\\n    17. SGOT: 13, 100, 200, 300, 400, 500, \\r\\n    18. ALBUMIN: 2.1, 3.0, 3.8, 4.5, 5.0, 6.0\\r\\n    19. PROTIME: 10, 20, 30, 40, 50, 60, 70, 80, 90\\r\\n    20. HISTOLOGY: no, yes\\r\\n\\r\\nThe BILIRUBIN attribute appears to be continuously-valued.  I checked this with the donater, Bojan Cestnik, who replied:\\r\\n\\r\\n About the hepatitis database and BILIRUBIN problem I would like to say the following: BILIRUBIN is continuous attribute (= the number of it\\'s \"values\" in the ASDOHEPA.DAT file is negative!!!); \"values\" are quoted because when speaking about the continuous attribute there is no such thing as all possible values. However, they represent so called \"boundary\" values; according to these \"boundary\" values the attribute can be discretized. At the same time, because of the continious attribute, one can perform some other test since the continuous information is preserved. I hope that these lines have at least roughly answered your question. ', 'citation': None}}\n",
      "               name     role         type demographic description units  \\\n",
      "0             Class   Target  Categorical        None        None  None   \n",
      "1               Age  Feature      Integer        None        None  None   \n",
      "2               Sex  Feature  Categorical        None        None  None   \n",
      "3           Steroid  Feature  Categorical        None        None  None   \n",
      "4        Antivirals  Feature  Categorical        None        None  None   \n",
      "5           Fatigue  Feature  Categorical        None        None  None   \n",
      "6           Malaise  Feature  Categorical        None        None  None   \n",
      "7          Anorexia  Feature  Categorical        None        None  None   \n",
      "8         Liver Big  Feature  Categorical        None        None  None   \n",
      "9        Liver Firm  Feature  Categorical        None        None  None   \n",
      "10  Spleen Palpable  Feature  Categorical        None        None  None   \n",
      "11          Spiders  Feature  Categorical        None        None  None   \n",
      "12          Ascites  Feature  Categorical        None        None  None   \n",
      "13          Varices  Feature  Categorical        None        None  None   \n",
      "14        Bilirubin  Feature   Continuous        None        None  None   \n",
      "15    Alk Phosphate  Feature      Integer        None        None  None   \n",
      "16             Sgot  Feature      Integer        None        None  None   \n",
      "17          Albumin  Feature      Integer        None        None  None   \n",
      "18          Protime  Feature      Integer        None        None  None   \n",
      "19        Histology  Feature      Integer        None        None  None   \n",
      "\n",
      "   missing_values  \n",
      "0              no  \n",
      "1              no  \n",
      "2              no  \n",
      "3             yes  \n",
      "4              no  \n",
      "5             yes  \n",
      "6             yes  \n",
      "7             yes  \n",
      "8             yes  \n",
      "9             yes  \n",
      "10            yes  \n",
      "11            yes  \n",
      "12            yes  \n",
      "13            yes  \n",
      "14            yes  \n",
      "15            yes  \n",
      "16            yes  \n",
      "17            yes  \n",
      "18            yes  \n",
      "19             no  \n"
     ]
    }
   ],
   "source": [
    "\n",
    "from ucimlrepo import fetch_ucirepo \n",
    "  \n",
    "# fetch dataset \n",
    "hepatitis = fetch_ucirepo(id=46) \n",
    "  \n",
    "# data (as pandas dataframes) \n",
    "X = hepatitis.data.features \n",
    "y = hepatitis.data.targets \n",
    "  \n",
    "# metadata \n",
    "print(hepatitis.metadata) \n",
    "  \n",
    "# variable information \n",
    "print(hepatitis.variables) \n"
   ]
  },
  {
   "cell_type": "markdown",
   "id": "bd3614f1",
   "metadata": {},
   "source": [
    "### Preview dataset yang sudah kalian download "
   ]
  },
  {
   "cell_type": "code",
   "execution_count": 11,
   "id": "99a622e0",
   "metadata": {},
   "outputs": [
    {
     "name": "stdout",
     "output_type": "stream",
     "text": [
      "Preview Fitur-fitur:\n",
      "   Age  Sex  Steroid  Antivirals  Fatigue  Malaise  Anorexia  Liver Big  \\\n",
      "0   30    2      1.0           2      2.0      2.0       2.0        1.0   \n",
      "1   50    1      1.0           2      1.0      2.0       2.0        1.0   \n",
      "2   78    1      2.0           2      1.0      2.0       2.0        2.0   \n",
      "3   31    1      NaN           1      2.0      2.0       2.0        2.0   \n",
      "4   34    1      2.0           2      2.0      2.0       2.0        2.0   \n",
      "\n",
      "   Liver Firm  Spleen Palpable  Spiders  Ascites  Varices  Bilirubin  \\\n",
      "0         2.0              2.0      2.0      2.0      2.0        1.0   \n",
      "1         2.0              2.0      2.0      2.0      2.0        0.9   \n",
      "2         2.0              2.0      2.0      2.0      2.0        0.7   \n",
      "3         2.0              2.0      2.0      2.0      2.0        0.7   \n",
      "4         2.0              2.0      2.0      2.0      2.0        1.0   \n",
      "\n",
      "   Alk Phosphate   Sgot  Albumin  Protime  Histology  \n",
      "0           85.0   18.0      4.0      NaN          1  \n",
      "1          135.0   42.0      3.5      NaN          1  \n",
      "2           96.0   32.0      4.0      NaN          1  \n",
      "3           46.0   52.0      4.0     80.0          1  \n",
      "4            NaN  200.0      4.0      NaN          1  \n",
      "Preview Target:\n",
      "   Class\n",
      "0      2\n",
      "1      2\n",
      "2      2\n",
      "3      2\n",
      "4      2\n"
     ]
    }
   ],
   "source": [
    "\n",
    "# Preview fitur-fitur yang digunakan\n",
    "print(\"Preview Fitur-fitur:\")\n",
    "print(X.head())\n",
    "\n",
    "# Preview target yang mau diklasifikasikan berdasarkan apa saja\n",
    "print(\"Preview Target:\")\n",
    "print(y.head())"
   ]
  },
  {
   "cell_type": "markdown",
   "id": "d518503c",
   "metadata": {},
   "source": [
    "### Data Preprocessing"
   ]
  },
  {
   "cell_type": "markdown",
   "id": "f0ebef0e",
   "metadata": {},
   "source": [
    "Data processing sangat penting sekali dilakukan karena untuk mencari dan menganalisa data apakah ada terdapat data yang belum bersih. Maksud dari belum bersih adalah terdapat data yang hilang, NaN, Null, dll. Sebelum di proses lebih lanjut data harus sudah bersih"
   ]
  },
  {
   "cell_type": "code",
   "execution_count": 80,
   "id": "958e7866",
   "metadata": {},
   "outputs": [
    {
     "name": "stdout",
     "output_type": "stream",
     "text": [
      "Cek data yang hilang pada fitur-fitur:\n",
      "Age                 0\n",
      "Sex                 0\n",
      "Steroid             1\n",
      "Antivirals          0\n",
      "Fatigue             1\n",
      "Malaise             1\n",
      "Anorexia            1\n",
      "Liver Big          10\n",
      "Liver Firm         11\n",
      "Spleen Palpable     5\n",
      "Spiders             5\n",
      "Ascites             5\n",
      "Varices             5\n",
      "Bilirubin           6\n",
      "Alk Phosphate      29\n",
      "Sgot                4\n",
      "Albumin            16\n",
      "Protime            67\n",
      "Histology           0\n",
      "dtype: int64\n",
      "Cek data yang hilang pada fitur-fitur:\n",
      "Class    0\n",
      "dtype: int64\n",
      "\n",
      "\n",
      "Class    0\n",
      "dtype: int64\n",
      "\n",
      "Preview Fitur-fitur:\n",
      "   Class\n",
      "0      2\n",
      "1      2\n",
      "2      2\n",
      "3      2\n",
      "4      2\n",
      "5      2\n",
      "6      1\n",
      "7      2\n",
      "8      2\n",
      "9      2\n",
      "No. of training examples: 155\n"
     ]
    }
   ],
   "source": [
    "#code untuk preprocessing (clue: (Data Cleaning) cek apakah terdapat data yang hilang, Nan, atau Null. \n",
    "#Jika ada drop data tersebut by row atau by kolom. Silahkan dianalisa jika by row seperti apa dan by kolom seperti apa)\n",
    "\n",
    "X = hepatitis.data.features \n",
    "y = hepatitis.data.targets \n",
    "\n",
    "# Cek apakah terdapat data yang hilang (NaN atau Null)\n",
    "print(\"Cek data yang hilang pada fitur-fitur:\")\n",
    "print(X.isnull().sum())\n",
    "\n",
    "print(\"Cek data yang hilang pada fitur-fitur:\")\n",
    "print(y.isnull().sum())\n",
    "\n",
    "\n",
    "\n",
    "#by row\n",
    "x_drop = X.dropna(axis=0)\n",
    "print(\"\\n\")\n",
    "print(x_drop.isnull().sum())\n",
    "print(\"\\nPreview Fitur-fitur:\")\n",
    "print(x_drop.head(10))\n",
    "\n",
    "#by col\n",
    "x_drop_col = X.dropna(axis=1)\n",
    "print(\"\\n\")\n",
    "print(x_drop_col.isnull().sum())\n",
    "print(\"\\nPreview Fitur-fitur:\")\n",
    "print(x_drop_col.head(10))\n",
    "\n",
    "\n",
    "\n"
   ]
  },
  {
   "cell_type": "markdown",
   "id": "a4f19537",
   "metadata": {},
   "source": [
    "### Lakukan Split data menjadi train dan test"
   ]
  },
  {
   "cell_type": "markdown",
   "id": "7a2223b7",
   "metadata": {},
   "source": [
    "Split data merupakan tahap penting dalam supervised learning. Karena algoritma nanti akan mempelajari data pada data train dan menguji hasil belajarnya pada data test"
   ]
  },
  {
   "cell_type": "code",
   "execution_count": 88,
   "id": "6ee4ca26",
   "metadata": {},
   "outputs": [
    {
     "name": "stdout",
     "output_type": "stream",
     "text": [
      "No. of training examples: 80\n",
      "No. of training examples: 155\n",
      "    Age  Sex  Steroid  Antivirals  Fatigue  Malaise  Anorexia  Liver Big  \\\n",
      "5    34    1      2.0           2      2.0      2.0       2.0        2.0   \n",
      "10   39    1      1.0           1      2.0      2.0       2.0        1.0   \n",
      "11   32    1      2.0           1      1.0      2.0       2.0        2.0   \n",
      "12   41    1      2.0           1      1.0      2.0       2.0        2.0   \n",
      "13   30    1      2.0           2      1.0      2.0       2.0        2.0   \n",
      "15   38    1      1.0           2      1.0      1.0       1.0        2.0   \n",
      "17   40    1      1.0           2      1.0      2.0       2.0        2.0   \n",
      "18   38    1      2.0           2      2.0      2.0       2.0        2.0   \n",
      "19   38    1      1.0           1      2.0      2.0       2.0        1.0   \n",
      "20   22    2      2.0           1      1.0      2.0       2.0        2.0   \n",
      "\n",
      "    Liver Firm  Spleen Palpable  Spiders  Ascites  Varices  Bilirubin  \\\n",
      "5          2.0              2.0      2.0      2.0      2.0        0.9   \n",
      "10         1.0              2.0      2.0      2.0      2.0        1.3   \n",
      "11         1.0              2.0      1.0      2.0      2.0        1.0   \n",
      "12         1.0              2.0      2.0      2.0      2.0        0.9   \n",
      "13         1.0              2.0      2.0      2.0      2.0        2.2   \n",
      "15         2.0              2.0      2.0      1.0      2.0        2.0   \n",
      "17         1.0              2.0      2.0      2.0      2.0        0.6   \n",
      "18         2.0              2.0      2.0      2.0      2.0        0.7   \n",
      "19         1.0              2.0      2.0      2.0      2.0        0.7   \n",
      "20         2.0              2.0      2.0      2.0      2.0        0.9   \n",
      "\n",
      "    Alk Phosphate   Sgot  Albumin  Protime  Histology  \n",
      "5            95.0   28.0      4.0     75.0          1  \n",
      "10           78.0   30.0      4.4     85.0          1  \n",
      "11           59.0  249.0      3.7     54.0          1  \n",
      "12           81.0   60.0      3.9     52.0          1  \n",
      "13           57.0  144.0      4.9     78.0          1  \n",
      "15           72.0   89.0      2.9     46.0          1  \n",
      "17           62.0  166.0      4.0     63.0          1  \n",
      "18           53.0   42.0      4.1     85.0          2  \n",
      "19           70.0   28.0      4.2     62.0          1  \n",
      "20           48.0   20.0      4.2     64.0          1  \n",
      "No. of training : 64\n",
      "No. of testing : 16\n",
      "No. of training : 64\n",
      "No. of testing : 91\n"
     ]
    }
   ],
   "source": [
    "print(f\"No. of training examples: {x_drop.shape[0]}\")\n",
    "print(f\"No. of training examples: {X.shape[0]}\")\n",
    "\n",
    "#Code untuk splitting dataset\n",
    "training_data, testing_data = train_test_split(x_drop, test_size=0.2, random_state=25,shuffle=False)\n",
    "training_data_Y, testing_data_Y = train_test_split(y, test_size=0.585, random_state=25,shuffle=False)\n",
    "\n",
    "print(training_data.head(10))\n",
    "\n",
    "print(f\"No. of training : {training_data.shape[0]}\")\n",
    "print(f\"No. of testing : {testing_data.shape[0]}\")\n",
    "\n",
    "print(f\"No. of training : {training_data_Y.shape[0]}\")\n",
    "print(f\"No. of testing : {testing_data_Y.shape[0]}\")\n"
   ]
  },
  {
   "cell_type": "markdown",
   "id": "dbae35bd",
   "metadata": {},
   "source": [
    "===================================================================================================="
   ]
  },
  {
   "cell_type": "markdown",
   "id": "b76ead52",
   "metadata": {},
   "source": [
    "### Proses Learning dengan Algoritma Supervised Learning"
   ]
  },
  {
   "cell_type": "markdown",
   "id": "9934fc72",
   "metadata": {},
   "source": [
    "Pada tugas ini kita akan menggunakan 2 algoritma\n",
    "1. KNN\n",
    "2. Naive Bayes"
   ]
  },
  {
   "cell_type": "markdown",
   "id": "99a28fee",
   "metadata": {},
   "source": [
    "### Algoritma KNN"
   ]
  },
  {
   "cell_type": "code",
   "execution_count": 89,
   "id": "a301ea90",
   "metadata": {},
   "outputs": [
    {
     "name": "stderr",
     "output_type": "stream",
     "text": [
      "C:\\Users\\User\\AppData\\Local\\Packages\\PythonSoftwareFoundation.Python.3.10_qbz5n2kfra8p0\\LocalCache\\local-packages\\Python310\\site-packages\\sklearn\\neighbors\\_classification.py:233: DataConversionWarning: A column-vector y was passed when a 1d array was expected. Please change the shape of y to (n_samples,), for example using ravel().\n",
      "  return self._fit(X, y)\n"
     ]
    },
    {
     "data": {
      "text/html": [
       "<style>#sk-container-id-1 {color: black;}#sk-container-id-1 pre{padding: 0;}#sk-container-id-1 div.sk-toggleable {background-color: white;}#sk-container-id-1 label.sk-toggleable__label {cursor: pointer;display: block;width: 100%;margin-bottom: 0;padding: 0.3em;box-sizing: border-box;text-align: center;}#sk-container-id-1 label.sk-toggleable__label-arrow:before {content: \"▸\";float: left;margin-right: 0.25em;color: #696969;}#sk-container-id-1 label.sk-toggleable__label-arrow:hover:before {color: black;}#sk-container-id-1 div.sk-estimator:hover label.sk-toggleable__label-arrow:before {color: black;}#sk-container-id-1 div.sk-toggleable__content {max-height: 0;max-width: 0;overflow: hidden;text-align: left;background-color: #f0f8ff;}#sk-container-id-1 div.sk-toggleable__content pre {margin: 0.2em;color: black;border-radius: 0.25em;background-color: #f0f8ff;}#sk-container-id-1 input.sk-toggleable__control:checked~div.sk-toggleable__content {max-height: 200px;max-width: 100%;overflow: auto;}#sk-container-id-1 input.sk-toggleable__control:checked~label.sk-toggleable__label-arrow:before {content: \"▾\";}#sk-container-id-1 div.sk-estimator input.sk-toggleable__control:checked~label.sk-toggleable__label {background-color: #d4ebff;}#sk-container-id-1 div.sk-label input.sk-toggleable__control:checked~label.sk-toggleable__label {background-color: #d4ebff;}#sk-container-id-1 input.sk-hidden--visually {border: 0;clip: rect(1px 1px 1px 1px);clip: rect(1px, 1px, 1px, 1px);height: 1px;margin: -1px;overflow: hidden;padding: 0;position: absolute;width: 1px;}#sk-container-id-1 div.sk-estimator {font-family: monospace;background-color: #f0f8ff;border: 1px dotted black;border-radius: 0.25em;box-sizing: border-box;margin-bottom: 0.5em;}#sk-container-id-1 div.sk-estimator:hover {background-color: #d4ebff;}#sk-container-id-1 div.sk-parallel-item::after {content: \"\";width: 100%;border-bottom: 1px solid gray;flex-grow: 1;}#sk-container-id-1 div.sk-label:hover label.sk-toggleable__label {background-color: #d4ebff;}#sk-container-id-1 div.sk-serial::before {content: \"\";position: absolute;border-left: 1px solid gray;box-sizing: border-box;top: 0;bottom: 0;left: 50%;z-index: 0;}#sk-container-id-1 div.sk-serial {display: flex;flex-direction: column;align-items: center;background-color: white;padding-right: 0.2em;padding-left: 0.2em;position: relative;}#sk-container-id-1 div.sk-item {position: relative;z-index: 1;}#sk-container-id-1 div.sk-parallel {display: flex;align-items: stretch;justify-content: center;background-color: white;position: relative;}#sk-container-id-1 div.sk-item::before, #sk-container-id-1 div.sk-parallel-item::before {content: \"\";position: absolute;border-left: 1px solid gray;box-sizing: border-box;top: 0;bottom: 0;left: 50%;z-index: -1;}#sk-container-id-1 div.sk-parallel-item {display: flex;flex-direction: column;z-index: 1;position: relative;background-color: white;}#sk-container-id-1 div.sk-parallel-item:first-child::after {align-self: flex-end;width: 50%;}#sk-container-id-1 div.sk-parallel-item:last-child::after {align-self: flex-start;width: 50%;}#sk-container-id-1 div.sk-parallel-item:only-child::after {width: 0;}#sk-container-id-1 div.sk-dashed-wrapped {border: 1px dashed gray;margin: 0 0.4em 0.5em 0.4em;box-sizing: border-box;padding-bottom: 0.4em;background-color: white;}#sk-container-id-1 div.sk-label label {font-family: monospace;font-weight: bold;display: inline-block;line-height: 1.2em;}#sk-container-id-1 div.sk-label-container {text-align: center;}#sk-container-id-1 div.sk-container {/* jupyter's `normalize.less` sets `[hidden] { display: none; }` but bootstrap.min.css set `[hidden] { display: none !important; }` so we also need the `!important` here to be able to override the default hidden behavior on the sphinx rendered scikit-learn.org. See: https://github.com/scikit-learn/scikit-learn/issues/21755 */display: inline-block !important;position: relative;}#sk-container-id-1 div.sk-text-repr-fallback {display: none;}</style><div id=\"sk-container-id-1\" class=\"sk-top-container\"><div class=\"sk-text-repr-fallback\"><pre>KNeighborsClassifier(n_neighbors=3)</pre><b>In a Jupyter environment, please rerun this cell to show the HTML representation or trust the notebook. <br />On GitHub, the HTML representation is unable to render, please try loading this page with nbviewer.org.</b></div><div class=\"sk-container\" hidden><div class=\"sk-item\"><div class=\"sk-estimator sk-toggleable\"><input class=\"sk-toggleable__control sk-hidden--visually\" id=\"sk-estimator-id-1\" type=\"checkbox\" checked><label for=\"sk-estimator-id-1\" class=\"sk-toggleable__label sk-toggleable__label-arrow\">KNeighborsClassifier</label><div class=\"sk-toggleable__content\"><pre>KNeighborsClassifier(n_neighbors=3)</pre></div></div></div></div></div>"
      ],
      "text/plain": [
       "KNeighborsClassifier(n_neighbors=3)"
      ]
     },
     "execution_count": 89,
     "metadata": {},
     "output_type": "execute_result"
    }
   ],
   "source": [
    "# code panggil fungsi KNN pada library sklearn\n",
    "neigh = KNeighborsClassifier(n_neighbors=3)\n",
    "\n",
    "# code masukkan datatrain pada KNN dan jalankan proses learningnya\n",
    "neigh.fit(training_data, training_data_Y)"
   ]
  },
  {
   "cell_type": "markdown",
   "id": "beb777e2",
   "metadata": {},
   "source": [
    "### Uji hasil Learning KNN"
   ]
  },
  {
   "cell_type": "code",
   "execution_count": 24,
   "id": "33c3ced2",
   "metadata": {},
   "outputs": [],
   "source": [
    "# code untuk pengujian hasil learning menggunakan KNN pada Datatest\n",
    "\n",
    "# code hasil output\n",
    "\n",
    "# code visualisasi hasil output dengan membandingkan data aktual dengan data hasil klasifikasi"
   ]
  },
  {
   "cell_type": "markdown",
   "id": "30603b5f",
   "metadata": {},
   "source": [
    "### Algoritma Naive Bayes"
   ]
  },
  {
   "cell_type": "code",
   "execution_count": 25,
   "id": "b88b7a6f",
   "metadata": {},
   "outputs": [],
   "source": [
    "# code panggil fungsi Naive Bayes pada library sklearn\n",
    "\n",
    "# code masukkan datatrain pada KNN dan jalankan proses learningnya"
   ]
  },
  {
   "cell_type": "markdown",
   "id": "a580c33b",
   "metadata": {},
   "source": [
    "### Uji hasil Learning Naive Bayes"
   ]
  },
  {
   "cell_type": "code",
   "execution_count": 26,
   "id": "2af3f296",
   "metadata": {},
   "outputs": [],
   "source": [
    "# code untuk pengujian hasil learning menggunakan Naive Bayes pada Datatest\n",
    "\n",
    "# code hasil output\n",
    "\n",
    "# code visualisasi hasil output dengan membandingkan data aktual dengan data hasil klasifikasi"
   ]
  },
  {
   "cell_type": "markdown",
   "id": "5db21abe",
   "metadata": {},
   "source": [
    "===================================================================================================="
   ]
  },
  {
   "cell_type": "markdown",
   "id": "e46513d6",
   "metadata": {},
   "source": [
    "## Pengujian"
   ]
  },
  {
   "cell_type": "markdown",
   "id": "257f5722",
   "metadata": {},
   "source": [
    "Setelah kita membuat model klasifikasi dengan menggunakan algoritma KNN dan Naive Bayes, hal selanjutnya yaitu kita perlu menguji algoritma mana yang paling baik di antara 2 algoritma tersebut. Metrics atau satuan pengukuran yang akan kita gunakan adalah Accuracy dan Precision"
   ]
  },
  {
   "cell_type": "markdown",
   "id": "387c2958",
   "metadata": {},
   "source": [
    "### Hitung nilai akurasi dan presisi dari model KNN"
   ]
  },
  {
   "cell_type": "code",
   "execution_count": 27,
   "id": "7a541803",
   "metadata": {},
   "outputs": [],
   "source": [
    "# code untuk menghitung akurasi \n",
    "\n",
    "# code untuk menghitung presisi"
   ]
  },
  {
   "cell_type": "markdown",
   "id": "d8dc99f1",
   "metadata": {},
   "source": [
    "### Hitung nilai akurasi dan presisi dari model Naive Bayes"
   ]
  },
  {
   "cell_type": "code",
   "execution_count": 28,
   "id": "4ce6fe19",
   "metadata": {},
   "outputs": [],
   "source": [
    "# code untuk menghitung akurasi \n",
    "\n",
    "# code untuk menghitung presisi"
   ]
  },
  {
   "cell_type": "markdown",
   "id": "9f9d4eb0",
   "metadata": {},
   "source": [
    "===================================================================================================="
   ]
  },
  {
   "cell_type": "markdown",
   "id": "63cef365",
   "metadata": {},
   "source": [
    "## Kesimpulan"
   ]
  },
  {
   "cell_type": "markdown",
   "id": "0e3bcb18",
   "metadata": {},
   "source": [
    "Dari apa yang telah kalian lakukan dapat disimpulkan dengan menjawab beberapa pertanyaan berikut:\n",
    "1. Mengapa dataset perlu dilakukan tahap preprocessing?\n",
    "2. Mengapa dataset perlu dilakukan splitting?\n",
    "3. Bagaimana konsep dan cara kerja dari KNN dan Naive Bayes?\n",
    "4. Pada hasil pengujian manakan yang paling baik antara KNN dengan Naive Bayes pada dataset ini?\n",
    "5. Apa perbedaan dari akurasi dan presisi?"
   ]
  },
  {
   "cell_type": "markdown",
   "id": "1e3fa25b",
   "metadata": {},
   "source": [
    "Silahkan dilengkapi kode di atas. Pastikan tidak ada code error. Kemudian buat sebuah laporan yang menjelaskan\n",
    "step by step dari notebook ini. Jangan lupa cantumkan Nama, NIM, dan Kelas. Deadline pengerjaan 1 minggu\n",
    "\n",
    "Link pengumpulan : https://forms.gle/M7P91LwiZU6bqAEn6"
   ]
  }
 ],
 "metadata": {
  "kernelspec": {
   "display_name": "Python 3 (ipykernel)",
   "language": "python",
   "name": "python3"
  },
  "language_info": {
   "codemirror_mode": {
    "name": "ipython",
    "version": 3
   },
   "file_extension": ".py",
   "mimetype": "text/x-python",
   "name": "python",
   "nbconvert_exporter": "python",
   "pygments_lexer": "ipython3",
   "version": "3.10.14"
  }
 },
 "nbformat": 4,
 "nbformat_minor": 5
}
