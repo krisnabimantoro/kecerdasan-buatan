{
 "cells": [
  {
   "cell_type": "markdown",
   "id": "f3b35cae",
   "metadata": {},
   "source": [
    "# Tugas Supervised Learning \n",
    "# Kecerdasan Buatan 2023/2024"
   ]
  },
  {
   "cell_type": "markdown",
   "id": "9a969910",
   "metadata": {},
   "source": [
    "Berikut adalah contoh aplikasi supervised learning untuk melakukan klasifikasi pada sebuah Dataset"
   ]
  },
  {
   "cell_type": "markdown",
   "id": "4bf1fb8c",
   "metadata": {},
   "source": [
    "Beberapa library yang harus diinstal dan disiapkan\n",
    "1. Sklearn (pip install scikit-learn)\n",
    "2. Pandas\n",
    "3. Numpy\n",
    "4. Matplotlib"
   ]
  },
  {
   "cell_type": "markdown",
   "id": "f794b707",
   "metadata": {},
   "source": [
    "===================================================================================================="
   ]
  },
  {
   "cell_type": "markdown",
   "id": "b193d9c8",
   "metadata": {},
   "source": [
    "### Import beberapa library yang akan kita gunakan"
   ]
  },
  {
   "cell_type": "code",
   "execution_count": 1,
   "id": "4a44fea0",
   "metadata": {},
   "outputs": [],
   "source": [
    "from sklearn.neighbors import KNeighborsClassifier\n",
    "from sklearn.naive_bayes import GaussianNB\n",
    "from sklearn.model_selection import train_test_split\n",
    "from sklearn.metrics import classification_report\n",
    "from sklearn.metrics import accuracy_score\n",
    "from sklearn.metrics import precision_score\n",
    "\n",
    "import pandas as pd\n",
    "import numpy as np\n",
    "import matplotlib.pyplot as plt\n",
    "import seaborn as sns"
   ]
  },
  {
   "cell_type": "markdown",
   "id": "f55f69c3",
   "metadata": {},
   "source": [
    "### Download dataset dan import kedalam code "
   ]
  },
  {
   "cell_type": "markdown",
   "id": "16c5f4fd",
   "metadata": {},
   "source": [
    "Dataset yang kita gunakan adalah dataset hepatitis dari https://archive.ics.uci.edu/dataset/46/hepatitis"
   ]
  },
  {
   "cell_type": "code",
   "execution_count": 2,
   "id": "cf38aea3",
   "metadata": {},
   "outputs": [
    {
     "name": "stdout",
     "output_type": "stream",
     "text": [
      "{'uci_id': 46, 'name': 'Hepatitis', 'repository_url': 'https://archive.ics.uci.edu/dataset/46/hepatitis', 'data_url': 'https://archive.ics.uci.edu/static/public/46/data.csv', 'abstract': 'From G.Gong: CMU; Mostly Boolean or numeric-valued attribute types; Includes cost data (donated by Peter Turney)', 'area': 'Health and Medicine', 'tasks': ['Classification'], 'characteristics': ['Multivariate'], 'num_instances': 155, 'num_features': 19, 'feature_types': ['Categorical', 'Integer', 'Real'], 'demographics': [], 'target_col': ['Class'], 'index_col': None, 'has_missing_values': 'yes', 'missing_values_symbol': 'NaN', 'year_of_dataset_creation': 1983, 'last_updated': 'Fri Nov 03 2023', 'dataset_doi': '10.24432/C5Q59J', 'creators': [], 'intro_paper': None, 'additional_info': {'summary': 'Please ask Gail Gong for further information on this database.', 'purpose': None, 'funded_by': None, 'instances_represent': None, 'recommended_data_splits': None, 'sensitive_data': None, 'preprocessing_description': None, 'variable_info': '     1. Class: DIE, LIVE\\r\\n     2. AGE: 10, 20, 30, 40, 50, 60, 70, 80\\r\\n     3. SEX: male, female\\r\\n     4. STEROID: no, yes\\r\\n     5. ANTIVIRALS: no, yes\\r\\n     6. FATIGUE: no, yes\\r\\n     7. MALAISE: no, yes\\r\\n     8. ANOREXIA: no, yes\\r\\n     9. LIVER BIG: no, yes\\r\\n    10. LIVER FIRM: no, yes\\r\\n    11. SPLEEN PALPABLE: no, yes\\r\\n    12. SPIDERS: no, yes\\r\\n    13. ASCITES: no, yes\\r\\n    14. VARICES: no, yes\\r\\n    15. BILIRUBIN: 0.39, 0.80, 1.20, 2.00, 3.00, 4.00\\r\\n        -- see the note below\\r\\n    16. ALK PHOSPHATE: 33, 80, 120, 160, 200, 250\\r\\n    17. SGOT: 13, 100, 200, 300, 400, 500, \\r\\n    18. ALBUMIN: 2.1, 3.0, 3.8, 4.5, 5.0, 6.0\\r\\n    19. PROTIME: 10, 20, 30, 40, 50, 60, 70, 80, 90\\r\\n    20. HISTOLOGY: no, yes\\r\\n\\r\\nThe BILIRUBIN attribute appears to be continuously-valued.  I checked this with the donater, Bojan Cestnik, who replied:\\r\\n\\r\\n About the hepatitis database and BILIRUBIN problem I would like to say the following: BILIRUBIN is continuous attribute (= the number of it\\'s \"values\" in the ASDOHEPA.DAT file is negative!!!); \"values\" are quoted because when speaking about the continuous attribute there is no such thing as all possible values. However, they represent so called \"boundary\" values; according to these \"boundary\" values the attribute can be discretized. At the same time, because of the continious attribute, one can perform some other test since the continuous information is preserved. I hope that these lines have at least roughly answered your question. ', 'citation': None}}\n",
      "               name     role         type demographic description units  \\\n",
      "0             Class   Target  Categorical        None        None  None   \n",
      "1               Age  Feature      Integer        None        None  None   \n",
      "2               Sex  Feature  Categorical        None        None  None   \n",
      "3           Steroid  Feature  Categorical        None        None  None   \n",
      "4        Antivirals  Feature  Categorical        None        None  None   \n",
      "5           Fatigue  Feature  Categorical        None        None  None   \n",
      "6           Malaise  Feature  Categorical        None        None  None   \n",
      "7          Anorexia  Feature  Categorical        None        None  None   \n",
      "8         Liver Big  Feature  Categorical        None        None  None   \n",
      "9        Liver Firm  Feature  Categorical        None        None  None   \n",
      "10  Spleen Palpable  Feature  Categorical        None        None  None   \n",
      "11          Spiders  Feature  Categorical        None        None  None   \n",
      "12          Ascites  Feature  Categorical        None        None  None   \n",
      "13          Varices  Feature  Categorical        None        None  None   \n",
      "14        Bilirubin  Feature   Continuous        None        None  None   \n",
      "15    Alk Phosphate  Feature      Integer        None        None  None   \n",
      "16             Sgot  Feature      Integer        None        None  None   \n",
      "17          Albumin  Feature      Integer        None        None  None   \n",
      "18          Protime  Feature      Integer        None        None  None   \n",
      "19        Histology  Feature      Integer        None        None  None   \n",
      "\n",
      "   missing_values  \n",
      "0              no  \n",
      "1              no  \n",
      "2              no  \n",
      "3             yes  \n",
      "4              no  \n",
      "5             yes  \n",
      "6             yes  \n",
      "7             yes  \n",
      "8             yes  \n",
      "9             yes  \n",
      "10            yes  \n",
      "11            yes  \n",
      "12            yes  \n",
      "13            yes  \n",
      "14            yes  \n",
      "15            yes  \n",
      "16            yes  \n",
      "17            yes  \n",
      "18            yes  \n",
      "19             no  \n"
     ]
    }
   ],
   "source": [
    "\n",
    "from ucimlrepo import fetch_ucirepo \n",
    "  \n",
    "# fetch dataset \n",
    "hepatitis = fetch_ucirepo(id=46) \n",
    "  \n",
    "# data (as pandas dataframes) \n",
    "X = hepatitis.data.features \n",
    "y = hepatitis.data.targets \n",
    "  \n",
    "# metadata \n",
    "print(hepatitis.metadata) \n",
    "  \n",
    "# variable information \n",
    "print(hepatitis.variables) \n"
   ]
  },
  {
   "cell_type": "markdown",
   "id": "bd3614f1",
   "metadata": {},
   "source": [
    "### Preview dataset yang sudah kalian download "
   ]
  },
  {
   "cell_type": "code",
   "execution_count": 3,
   "id": "99a622e0",
   "metadata": {},
   "outputs": [
    {
     "name": "stdout",
     "output_type": "stream",
     "text": [
      "Preview Fitur-fitur:\n",
      "   Age  Sex  Steroid  Antivirals  Fatigue  Malaise  Anorexia  Liver Big  \\\n",
      "0   30    2      1.0           2      2.0      2.0       2.0        1.0   \n",
      "1   50    1      1.0           2      1.0      2.0       2.0        1.0   \n",
      "2   78    1      2.0           2      1.0      2.0       2.0        2.0   \n",
      "3   31    1      NaN           1      2.0      2.0       2.0        2.0   \n",
      "4   34    1      2.0           2      2.0      2.0       2.0        2.0   \n",
      "5   34    1      2.0           2      2.0      2.0       2.0        2.0   \n",
      "6   51    1      1.0           2      1.0      2.0       1.0        2.0   \n",
      "7   23    1      2.0           2      2.0      2.0       2.0        2.0   \n",
      "8   39    1      2.0           2      1.0      2.0       2.0        2.0   \n",
      "9   30    1      2.0           2      2.0      2.0       2.0        2.0   \n",
      "\n",
      "   Liver Firm  Spleen Palpable  Spiders  Ascites  Varices  Bilirubin  \\\n",
      "0         2.0              2.0      2.0      2.0      2.0        1.0   \n",
      "1         2.0              2.0      2.0      2.0      2.0        0.9   \n",
      "2         2.0              2.0      2.0      2.0      2.0        0.7   \n",
      "3         2.0              2.0      2.0      2.0      2.0        0.7   \n",
      "4         2.0              2.0      2.0      2.0      2.0        1.0   \n",
      "5         2.0              2.0      2.0      2.0      2.0        0.9   \n",
      "6         2.0              1.0      1.0      2.0      2.0        NaN   \n",
      "7         2.0              2.0      2.0      2.0      2.0        1.0   \n",
      "8         1.0              2.0      2.0      2.0      2.0        0.7   \n",
      "9         2.0              2.0      2.0      2.0      2.0        1.0   \n",
      "\n",
      "   Alk Phosphate   Sgot  Albumin  Protime  Histology  \n",
      "0           85.0   18.0      4.0      NaN          1  \n",
      "1          135.0   42.0      3.5      NaN          1  \n",
      "2           96.0   32.0      4.0      NaN          1  \n",
      "3           46.0   52.0      4.0     80.0          1  \n",
      "4            NaN  200.0      4.0      NaN          1  \n",
      "5           95.0   28.0      4.0     75.0          1  \n",
      "6            NaN    NaN      NaN      NaN          1  \n",
      "7            NaN    NaN      NaN      NaN          1  \n",
      "8            NaN   48.0      4.4      NaN          1  \n",
      "9            NaN  120.0      3.9      NaN          1  \n",
      "Preview Target:\n",
      "   Class\n",
      "0      2\n",
      "1      2\n",
      "2      2\n",
      "3      2\n",
      "4      2\n",
      "5      2\n",
      "6      1\n",
      "7      2\n",
      "8      2\n",
      "9      2\n"
     ]
    }
   ],
   "source": [
    "# Preview fitur-fitur yang digunakan\n",
    "print(\"Preview Fitur-fitur:\")\n",
    "print(X.head(10))\n",
    "\n",
    "# Preview target yang mau diklasifikasikan berdasarkan apa saja\n",
    "print(\"Preview Target:\")\n",
    "print(y.head(10))"
   ]
  },
  {
   "cell_type": "markdown",
   "id": "d518503c",
   "metadata": {},
   "source": [
    "### Data Preprocessing"
   ]
  },
  {
   "cell_type": "markdown",
   "id": "f0ebef0e",
   "metadata": {},
   "source": [
    "Data processing sangat penting sekali dilakukan karena untuk mencari dan menganalisa data apakah ada terdapat data yang belum bersih. Maksud dari belum bersih adalah terdapat data yang hilang, NaN, Null, dll. Sebelum di proses lebih lanjut data harus sudah bersih"
   ]
  },
  {
   "cell_type": "code",
   "execution_count": 4,
   "id": "958e7866",
   "metadata": {},
   "outputs": [
    {
     "name": "stdout",
     "output_type": "stream",
     "text": [
      "Cek data yang hilang pada fitur-fitur:\n",
      "Age                 0\n",
      "Sex                 0\n",
      "Steroid             1\n",
      "Antivirals          0\n",
      "Fatigue             1\n",
      "Malaise             1\n",
      "Anorexia            1\n",
      "Liver Big          10\n",
      "Liver Firm         11\n",
      "Spleen Palpable     5\n",
      "Spiders             5\n",
      "Ascites             5\n",
      "Varices             5\n",
      "Bilirubin           6\n",
      "Alk Phosphate      29\n",
      "Sgot                4\n",
      "Albumin            16\n",
      "Protime            67\n",
      "Histology           0\n",
      "dtype: int64\n",
      "\n",
      "Cek data yang hilang pada target:\n",
      "Class    0\n",
      "dtype: int64\n",
      "\n",
      "Setelah penghapusan data yang hilang by row:\n",
      "Age                0\n",
      "Sex                0\n",
      "Steroid            0\n",
      "Antivirals         0\n",
      "Fatigue            0\n",
      "Malaise            0\n",
      "Anorexia           0\n",
      "Liver Big          0\n",
      "Liver Firm         0\n",
      "Spleen Palpable    0\n",
      "Spiders            0\n",
      "Ascites            0\n",
      "Varices            0\n",
      "Bilirubin          0\n",
      "Alk Phosphate      0\n",
      "Sgot               0\n",
      "Albumin            0\n",
      "Protime            0\n",
      "Histology          0\n",
      "dtype: int64\n",
      "\n",
      "Preview Fitur-fitur:\n",
      "    Age  Sex  Steroid  Antivirals  Fatigue  Malaise  Anorexia  Liver Big  \\\n",
      "5    34    1      2.0           2      2.0      2.0       2.0        2.0   \n",
      "10   39    1      1.0           1      2.0      2.0       2.0        1.0   \n",
      "11   32    1      2.0           1      1.0      2.0       2.0        2.0   \n",
      "12   41    1      2.0           1      1.0      2.0       2.0        2.0   \n",
      "13   30    1      2.0           2      1.0      2.0       2.0        2.0   \n",
      "\n",
      "    Liver Firm  Spleen Palpable  Spiders  Ascites  Varices  Bilirubin  \\\n",
      "5          2.0              2.0      2.0      2.0      2.0        0.9   \n",
      "10         1.0              2.0      2.0      2.0      2.0        1.3   \n",
      "11         1.0              2.0      1.0      2.0      2.0        1.0   \n",
      "12         1.0              2.0      2.0      2.0      2.0        0.9   \n",
      "13         1.0              2.0      2.0      2.0      2.0        2.2   \n",
      "\n",
      "    Alk Phosphate   Sgot  Albumin  Protime  Histology  \n",
      "5            95.0   28.0      4.0     75.0          1  \n",
      "10           78.0   30.0      4.4     85.0          1  \n",
      "11           59.0  249.0      3.7     54.0          1  \n",
      "12           81.0   60.0      3.9     52.0          1  \n",
      "13           57.0  144.0      4.9     78.0          1  \n",
      "    Class\n",
      "5       2\n",
      "10      2\n",
      "11      2\n",
      "12      2\n",
      "13      2\n",
      "No. of Row X: 80\n",
      "No. of Row Y: 80\n",
      "\n",
      "\n",
      "Age           0\n",
      "Sex           0\n",
      "Antivirals    0\n",
      "Histology     0\n",
      "dtype: int64\n",
      "\n",
      "Preview Fitur-fitur:\n",
      "   Age  Sex  Antivirals  Histology\n",
      "0   30    2           2          1\n",
      "1   50    1           2          1\n",
      "2   78    1           2          1\n",
      "3   31    1           1          1\n",
      "4   34    1           2          1\n",
      "5   34    1           2          1\n",
      "6   51    1           2          1\n",
      "7   23    1           2          1\n",
      "8   39    1           2          1\n",
      "9   30    1           2          1\n"
     ]
    }
   ],
   "source": [
    "#code untuk preprocessing (clue: (Data Cleaning) cek apakah terdapat data yang hilang, Nan, atau Null. \n",
    "\n",
    "\n",
    "X = hepatitis.data.features \n",
    "y = hepatitis.data.targets \n",
    "\n",
    "# Cek apakah terdapat data yang hilang (NaN atau Null)\n",
    "print(\"Cek data yang hilang pada fitur-fitur:\")\n",
    "print(X.isnull().sum())\n",
    "\n",
    "print(\"\\nCek data yang hilang pada target:\")\n",
    "print(y.isnull().sum())\n",
    "\n",
    "\n",
    "#Jika ada drop data tersebut by row atau by kolom. Silahkan dianalisa jika by row seperti apa dan by kolom seperti apa)\n",
    "#by row\n",
    "x_drop = X.dropna(axis=0)\n",
    "y_drop = y.loc[X.dropna(axis=0).index]\n",
    "\n",
    "print(\"\\nSetelah penghapusan data yang hilang by row:\")\n",
    "print(x_drop.isnull().sum())\n",
    "\n",
    "print(\"\\nPreview Fitur-fitur:\")\n",
    "print(x_drop.head(5))\n",
    "print(y_drop.head(5))\n",
    "\n",
    "print(f\"No. of Row X: {x_drop.shape[0]}\")\n",
    "print(f\"No. of Row Y: {y_drop.shape[0]}\")\n",
    "\n",
    "\n",
    "#by col\n",
    "x_drop_col = X.dropna(axis=1)\n",
    "print(\"\\n\")\n",
    "print(x_drop_col.isnull().sum())\n",
    "print(\"\\nPreview Fitur-fitur:\")\n",
    "print(x_drop_col.head(10))\n",
    "\n",
    "\n",
    "\n"
   ]
  },
  {
   "cell_type": "markdown",
   "id": "a4f19537",
   "metadata": {},
   "source": [
    "### Lakukan Split data menjadi train dan test"
   ]
  },
  {
   "cell_type": "markdown",
   "id": "7a2223b7",
   "metadata": {},
   "source": [
    "Split data merupakan tahap penting dalam supervised learning. Karena algoritma nanti akan mempelajari data pada data train dan menguji hasil belajarnya pada data test"
   ]
  },
  {
   "cell_type": "code",
   "execution_count": 5,
   "id": "6ee4ca26",
   "metadata": {},
   "outputs": [
    {
     "name": "stdout",
     "output_type": "stream",
     "text": [
      "No. of training examples X: 80\n",
      "No. of training examples Y: 80\n",
      "No. of training X: 64\n",
      "No. of testing X: 16\n",
      "No. of training Y: 64\n",
      "No. of testing Y: 16\n"
     ]
    }
   ],
   "source": [
    "print(f\"No. of training examples X: {x_drop.shape[0]}\")\n",
    "print(f\"No. of training examples Y: {y_drop.shape[0]}\")\n",
    "\n",
    "#Code untuk splitting dataset\n",
    "X_train, X_test, y_train, y_test = train_test_split(x_drop,y_drop, test_size=0.2, random_state=25,shuffle=False)\n",
    "\n",
    "\n",
    "# print(training_data.head(10))\n",
    "\n",
    "print(f\"No. of training X: {X_train.shape[0]}\")\n",
    "print(f\"No. of testing X: {X_test.shape[0]}\")\n",
    "\n",
    "print(f\"No. of training Y: {y_train.shape[0]}\")\n",
    "print(f\"No. of testing Y: {y_test.shape[0]}\")\n"
   ]
  },
  {
   "cell_type": "markdown",
   "id": "dbae35bd",
   "metadata": {},
   "source": [
    "===================================================================================================="
   ]
  },
  {
   "cell_type": "markdown",
   "id": "b76ead52",
   "metadata": {},
   "source": [
    "### Proses Learning dengan Algoritma Supervised Learning"
   ]
  },
  {
   "cell_type": "markdown",
   "id": "9934fc72",
   "metadata": {},
   "source": [
    "Pada tugas ini kita akan menggunakan 2 algoritma\n",
    "1. KNN\n",
    "2. Naive Bayes"
   ]
  },
  {
   "cell_type": "markdown",
   "id": "99a28fee",
   "metadata": {},
   "source": [
    "### Algoritma KNN"
   ]
  },
  {
   "cell_type": "code",
   "execution_count": 6,
   "id": "a301ea90",
   "metadata": {},
   "outputs": [
    {
     "name": "stderr",
     "output_type": "stream",
     "text": [
      "C:\\Users\\User\\AppData\\Local\\Packages\\PythonSoftwareFoundation.Python.3.10_qbz5n2kfra8p0\\LocalCache\\local-packages\\Python310\\site-packages\\sklearn\\neighbors\\_classification.py:233: DataConversionWarning: A column-vector y was passed when a 1d array was expected. Please change the shape of y to (n_samples,), for example using ravel().\n",
      "  return self._fit(X, y)\n"
     ]
    },
    {
     "data": {
      "text/html": [
       "<style>#sk-container-id-1 {color: black;}#sk-container-id-1 pre{padding: 0;}#sk-container-id-1 div.sk-toggleable {background-color: white;}#sk-container-id-1 label.sk-toggleable__label {cursor: pointer;display: block;width: 100%;margin-bottom: 0;padding: 0.3em;box-sizing: border-box;text-align: center;}#sk-container-id-1 label.sk-toggleable__label-arrow:before {content: \"▸\";float: left;margin-right: 0.25em;color: #696969;}#sk-container-id-1 label.sk-toggleable__label-arrow:hover:before {color: black;}#sk-container-id-1 div.sk-estimator:hover label.sk-toggleable__label-arrow:before {color: black;}#sk-container-id-1 div.sk-toggleable__content {max-height: 0;max-width: 0;overflow: hidden;text-align: left;background-color: #f0f8ff;}#sk-container-id-1 div.sk-toggleable__content pre {margin: 0.2em;color: black;border-radius: 0.25em;background-color: #f0f8ff;}#sk-container-id-1 input.sk-toggleable__control:checked~div.sk-toggleable__content {max-height: 200px;max-width: 100%;overflow: auto;}#sk-container-id-1 input.sk-toggleable__control:checked~label.sk-toggleable__label-arrow:before {content: \"▾\";}#sk-container-id-1 div.sk-estimator input.sk-toggleable__control:checked~label.sk-toggleable__label {background-color: #d4ebff;}#sk-container-id-1 div.sk-label input.sk-toggleable__control:checked~label.sk-toggleable__label {background-color: #d4ebff;}#sk-container-id-1 input.sk-hidden--visually {border: 0;clip: rect(1px 1px 1px 1px);clip: rect(1px, 1px, 1px, 1px);height: 1px;margin: -1px;overflow: hidden;padding: 0;position: absolute;width: 1px;}#sk-container-id-1 div.sk-estimator {font-family: monospace;background-color: #f0f8ff;border: 1px dotted black;border-radius: 0.25em;box-sizing: border-box;margin-bottom: 0.5em;}#sk-container-id-1 div.sk-estimator:hover {background-color: #d4ebff;}#sk-container-id-1 div.sk-parallel-item::after {content: \"\";width: 100%;border-bottom: 1px solid gray;flex-grow: 1;}#sk-container-id-1 div.sk-label:hover label.sk-toggleable__label {background-color: #d4ebff;}#sk-container-id-1 div.sk-serial::before {content: \"\";position: absolute;border-left: 1px solid gray;box-sizing: border-box;top: 0;bottom: 0;left: 50%;z-index: 0;}#sk-container-id-1 div.sk-serial {display: flex;flex-direction: column;align-items: center;background-color: white;padding-right: 0.2em;padding-left: 0.2em;position: relative;}#sk-container-id-1 div.sk-item {position: relative;z-index: 1;}#sk-container-id-1 div.sk-parallel {display: flex;align-items: stretch;justify-content: center;background-color: white;position: relative;}#sk-container-id-1 div.sk-item::before, #sk-container-id-1 div.sk-parallel-item::before {content: \"\";position: absolute;border-left: 1px solid gray;box-sizing: border-box;top: 0;bottom: 0;left: 50%;z-index: -1;}#sk-container-id-1 div.sk-parallel-item {display: flex;flex-direction: column;z-index: 1;position: relative;background-color: white;}#sk-container-id-1 div.sk-parallel-item:first-child::after {align-self: flex-end;width: 50%;}#sk-container-id-1 div.sk-parallel-item:last-child::after {align-self: flex-start;width: 50%;}#sk-container-id-1 div.sk-parallel-item:only-child::after {width: 0;}#sk-container-id-1 div.sk-dashed-wrapped {border: 1px dashed gray;margin: 0 0.4em 0.5em 0.4em;box-sizing: border-box;padding-bottom: 0.4em;background-color: white;}#sk-container-id-1 div.sk-label label {font-family: monospace;font-weight: bold;display: inline-block;line-height: 1.2em;}#sk-container-id-1 div.sk-label-container {text-align: center;}#sk-container-id-1 div.sk-container {/* jupyter's `normalize.less` sets `[hidden] { display: none; }` but bootstrap.min.css set `[hidden] { display: none !important; }` so we also need the `!important` here to be able to override the default hidden behavior on the sphinx rendered scikit-learn.org. See: https://github.com/scikit-learn/scikit-learn/issues/21755 */display: inline-block !important;position: relative;}#sk-container-id-1 div.sk-text-repr-fallback {display: none;}</style><div id=\"sk-container-id-1\" class=\"sk-top-container\"><div class=\"sk-text-repr-fallback\"><pre>KNeighborsClassifier(n_neighbors=4)</pre><b>In a Jupyter environment, please rerun this cell to show the HTML representation or trust the notebook. <br />On GitHub, the HTML representation is unable to render, please try loading this page with nbviewer.org.</b></div><div class=\"sk-container\" hidden><div class=\"sk-item\"><div class=\"sk-estimator sk-toggleable\"><input class=\"sk-toggleable__control sk-hidden--visually\" id=\"sk-estimator-id-1\" type=\"checkbox\" checked><label for=\"sk-estimator-id-1\" class=\"sk-toggleable__label sk-toggleable__label-arrow\">KNeighborsClassifier</label><div class=\"sk-toggleable__content\"><pre>KNeighborsClassifier(n_neighbors=4)</pre></div></div></div></div></div>"
      ],
      "text/plain": [
       "KNeighborsClassifier(n_neighbors=4)"
      ]
     },
     "execution_count": 6,
     "metadata": {},
     "output_type": "execute_result"
    }
   ],
   "source": [
    "# code panggil fungsi KNN pada library sklearn\n",
    "neigh = KNeighborsClassifier(n_neighbors=4)\n",
    "\n",
    "# code masukkan datatrain pada KNN dan jalankan proses learningnya\n",
    "neigh.fit(X_train, y_train)"
   ]
  },
  {
   "cell_type": "markdown",
   "id": "beb777e2",
   "metadata": {},
   "source": [
    "### Uji hasil Learning KNN"
   ]
  },
  {
   "cell_type": "code",
   "execution_count": 7,
   "id": "33c3ced2",
   "metadata": {},
   "outputs": [
    {
     "name": "stdout",
     "output_type": "stream",
     "text": [
      "     Class\n",
      "124      2\n",
      "125      2\n",
      "127      1\n",
      "128      2\n",
      "129      1\n",
      "130      2\n",
      "133      2\n",
      "134      1\n",
      "135      2\n",
      "137      2\n",
      "138      1\n",
      "139      2\n",
      "143      1\n",
      "145      2\n",
      "153      2\n",
      "154      1\n",
      "[2 2 2 2 2 1 2 2 2 1 2 2 2 2 1 1]\n"
     ]
    },
    {
     "data": {
      "image/png": "[encoded data removed]",
      "text/plain": [
       "<Figure size 1200x600 with 1 Axes>"
      ]
     },
     "metadata": {},
     "output_type": "display_data"
    }
   ],
   "source": [
    "# code untuk pengujian hasil learning menggunakan KNN pada Datatest\n",
    "predicted = neigh.predict(X_test)\n",
    "\n",
    "# code hasil output\n",
    "\n",
    "print(y_test)\n",
    "print(predicted)\n",
    "\n",
    "# code visualisasi hasil output dengan membandingkan data aktual dengan data hasil klasifikasi\n",
    "\n",
    "\n",
    "comparison_df = pd.DataFrame({\n",
    "    'Aktual': y_test['Class'].values.flatten(),\n",
    "    'Prediksi': predicted.flatten()\n",
    "})\n",
    "\n",
    "\n",
    "# Menghitung jumlah aktual dan prediksi\n",
    "aktual_counts = comparison_df['Aktual'].value_counts().sort_index()\n",
    "prediksi_counts = comparison_df['Prediksi'].value_counts().sort_index()\n",
    "\n",
    "# Menyusun data untuk plotting\n",
    "labels = sorted(set(comparison_df['Aktual']))\n",
    "bar_width = 0.35\n",
    "index = np.arange(len(labels))\n",
    "\n",
    "# Membuat bar untuk data aktual\n",
    "plt.figure(figsize=(12, 6))\n",
    "plt.bar(index, [aktual_counts.get(label, 0) for label in labels], bar_width, label='Data Aktual', color='b', alpha=0.7)\n",
    "\n",
    "# Membuat bar untuk prediksi\n",
    "plt.bar(index + bar_width, [prediksi_counts.get(label, 0) for label in labels], bar_width, label='Hasil Klasifikasi (KNN)', color='r', alpha=0.7)\n",
    "\n",
    "# Menambahkan label, judul, dan legenda\n",
    "plt.xlabel('Kelas')\n",
    "plt.ylabel('Jumlah')\n",
    "plt.title('Perbandingan Data Aktual dan Hasil Klasifikasi (KNN)')\n",
    "plt.xticks(index + bar_width / 2, labels)\n",
    "plt.legend()\n",
    "\n",
    "# Menampilkan plot\n",
    "plt.tight_layout()\n",
    "plt.show()\n",
    "\n",
    "\n"
   ]
  },
  {
   "cell_type": "markdown",
   "id": "30603b5f",
   "metadata": {},
   "source": [
    "### Algoritma Naive Bayes"
   ]
  },
  {
   "cell_type": "code",
   "execution_count": 8,
   "id": "b88b7a6f",
   "metadata": {},
   "outputs": [
    {
     "name": "stderr",
     "output_type": "stream",
     "text": [
      "C:\\Users\\User\\AppData\\Local\\Packages\\PythonSoftwareFoundation.Python.3.10_qbz5n2kfra8p0\\LocalCache\\local-packages\\Python310\\site-packages\\sklearn\\utils\\validation.py:1183: DataConversionWarning: A column-vector y was passed when a 1d array was expected. Please change the shape of y to (n_samples, ), for example using ravel().\n",
      "  y = column_or_1d(y, warn=True)\n"
     ]
    },
    {
     "data": {
      "text/html": [
       "<style>#sk-container-id-2 {color: black;}#sk-container-id-2 pre{padding: 0;}#sk-container-id-2 div.sk-toggleable {background-color: white;}#sk-container-id-2 label.sk-toggleable__label {cursor: pointer;display: block;width: 100%;margin-bottom: 0;padding: 0.3em;box-sizing: border-box;text-align: center;}#sk-container-id-2 label.sk-toggleable__label-arrow:before {content: \"▸\";float: left;margin-right: 0.25em;color: #696969;}#sk-container-id-2 label.sk-toggleable__label-arrow:hover:before {color: black;}#sk-container-id-2 div.sk-estimator:hover label.sk-toggleable__label-arrow:before {color: black;}#sk-container-id-2 div.sk-toggleable__content {max-height: 0;max-width: 0;overflow: hidden;text-align: left;background-color: #f0f8ff;}#sk-container-id-2 div.sk-toggleable__content pre {margin: 0.2em;color: black;border-radius: 0.25em;background-color: #f0f8ff;}#sk-container-id-2 input.sk-toggleable__control:checked~div.sk-toggleable__content {max-height: 200px;max-width: 100%;overflow: auto;}#sk-container-id-2 input.sk-toggleable__control:checked~label.sk-toggleable__label-arrow:before {content: \"▾\";}#sk-container-id-2 div.sk-estimator input.sk-toggleable__control:checked~label.sk-toggleable__label {background-color: #d4ebff;}#sk-container-id-2 div.sk-label input.sk-toggleable__control:checked~label.sk-toggleable__label {background-color: #d4ebff;}#sk-container-id-2 input.sk-hidden--visually {border: 0;clip: rect(1px 1px 1px 1px);clip: rect(1px, 1px, 1px, 1px);height: 1px;margin: -1px;overflow: hidden;padding: 0;position: absolute;width: 1px;}#sk-container-id-2 div.sk-estimator {font-family: monospace;background-color: #f0f8ff;border: 1px dotted black;border-radius: 0.25em;box-sizing: border-box;margin-bottom: 0.5em;}#sk-container-id-2 div.sk-estimator:hover {background-color: #d4ebff;}#sk-container-id-2 div.sk-parallel-item::after {content: \"\";width: 100%;border-bottom: 1px solid gray;flex-grow: 1;}#sk-container-id-2 div.sk-label:hover label.sk-toggleable__label {background-color: #d4ebff;}#sk-container-id-2 div.sk-serial::before {content: \"\";position: absolute;border-left: 1px solid gray;box-sizing: border-box;top: 0;bottom: 0;left: 50%;z-index: 0;}#sk-container-id-2 div.sk-serial {display: flex;flex-direction: column;align-items: center;background-color: white;padding-right: 0.2em;padding-left: 0.2em;position: relative;}#sk-container-id-2 div.sk-item {position: relative;z-index: 1;}#sk-container-id-2 div.sk-parallel {display: flex;align-items: stretch;justify-content: center;background-color: white;position: relative;}#sk-container-id-2 div.sk-item::before, #sk-container-id-2 div.sk-parallel-item::before {content: \"\";position: absolute;border-left: 1px solid gray;box-sizing: border-box;top: 0;bottom: 0;left: 50%;z-index: -1;}#sk-container-id-2 div.sk-parallel-item {display: flex;flex-direction: column;z-index: 1;position: relative;background-color: white;}#sk-container-id-2 div.sk-parallel-item:first-child::after {align-self: flex-end;width: 50%;}#sk-container-id-2 div.sk-parallel-item:last-child::after {align-self: flex-start;width: 50%;}#sk-container-id-2 div.sk-parallel-item:only-child::after {width: 0;}#sk-container-id-2 div.sk-dashed-wrapped {border: 1px dashed gray;margin: 0 0.4em 0.5em 0.4em;box-sizing: border-box;padding-bottom: 0.4em;background-color: white;}#sk-container-id-2 div.sk-label label {font-family: monospace;font-weight: bold;display: inline-block;line-height: 1.2em;}#sk-container-id-2 div.sk-label-container {text-align: center;}#sk-container-id-2 div.sk-container {/* jupyter's `normalize.less` sets `[hidden] { display: none; }` but bootstrap.min.css set `[hidden] { display: none !important; }` so we also need the `!important` here to be able to override the default hidden behavior on the sphinx rendered scikit-learn.org. See: https://github.com/scikit-learn/scikit-learn/issues/21755 */display: inline-block !important;position: relative;}#sk-container-id-2 div.sk-text-repr-fallback {display: none;}</style><div id=\"sk-container-id-2\" class=\"sk-top-container\"><div class=\"sk-text-repr-fallback\"><pre>GaussianNB()</pre><b>In a Jupyter environment, please rerun this cell to show the HTML representation or trust the notebook. <br />On GitHub, the HTML representation is unable to render, please try loading this page with nbviewer.org.</b></div><div class=\"sk-container\" hidden><div class=\"sk-item\"><div class=\"sk-estimator sk-toggleable\"><input class=\"sk-toggleable__control sk-hidden--visually\" id=\"sk-estimator-id-2\" type=\"checkbox\" checked><label for=\"sk-estimator-id-2\" class=\"sk-toggleable__label sk-toggleable__label-arrow\">GaussianNB</label><div class=\"sk-toggleable__content\"><pre>GaussianNB()</pre></div></div></div></div></div>"
      ],
      "text/plain": [
       "GaussianNB()"
      ]
     },
     "execution_count": 8,
     "metadata": {},
     "output_type": "execute_result"
    }
   ],
   "source": [
    "# code panggil fungsi Naive Bayes pada library sklearn\n",
    "nb = GaussianNB()\n",
    "\n",
    "# code masukkan datatrain pada KNN dan jalankan proses learningnya\n",
    "nb.fit(X_train, y_train)\n"
   ]
  },
  {
   "cell_type": "markdown",
   "id": "a580c33b",
   "metadata": {},
   "source": [
    "### Uji hasil Learning Naive Bayes"
   ]
  },
  {
   "cell_type": "code",
   "execution_count": 9,
   "id": "2af3f296",
   "metadata": {},
   "outputs": [
    {
     "name": "stdout",
     "output_type": "stream",
     "text": [
      "     Class\n",
      "124      2\n",
      "125      2\n",
      "127      1\n",
      "128      2\n",
      "129      1\n",
      "130      2\n",
      "133      2\n",
      "134      1\n",
      "135      2\n",
      "137      2\n",
      "138      1\n",
      "139      2\n",
      "143      1\n",
      "145      2\n",
      "153      2\n",
      "154      1\n",
      "[1 2 1 1 1 1 1 1 2 1 1 2 1 1 2 1]\n"
     ]
    },
    {
     "data": {
      "image/png": "[encoded data removed]",
      "text/plain": [
       "<Figure size 1200x600 with 1 Axes>"
      ]
     },
     "metadata": {},
     "output_type": "display_data"
    }
   ],
   "source": [
    "# code untuk pengujian hasil learning menggunakan Naive Bayes pada Datatest\n",
    "y_pred = nb.predict(X_test)\n",
    "\n",
    "\n",
    "# code hasil output\n",
    "print(y_test)\n",
    "print(y_pred)\n",
    "\n",
    "\n",
    "\n",
    "# code visualisasi hasil output dengan membandingkan data aktual dengan data hasil klasifikasi\n",
    "comparison_df = pd.DataFrame({\n",
    "    'Aktual': y_test['Class'].values.flatten(),\n",
    "    'Prediksi': y_pred.flatten()\n",
    "})\n",
    "\n",
    "\n",
    "# Menghitung jumlah aktual dan prediksi\n",
    "aktual_counts = comparison_df['Aktual'].value_counts().sort_index()\n",
    "prediksi_counts = comparison_df['Prediksi'].value_counts().sort_index()\n",
    "\n",
    "# Menyusun data untuk plotting\n",
    "labels = sorted(set(comparison_df['Aktual']))\n",
    "bar_width = 0.35\n",
    "index = np.arange(len(labels))\n",
    "\n",
    "# Membuat bar untuk data aktual\n",
    "plt.figure(figsize=(12, 6))\n",
    "plt.bar(index, [aktual_counts.get(label, 0) for label in labels], bar_width, label='Data Aktual', color='b', alpha=0.7)\n",
    "\n",
    "# Membuat bar untuk prediksi\n",
    "plt.bar(index + bar_width, [prediksi_counts.get(label, 0) for label in labels], bar_width, label='Hasil Klasifikasi (KNN)', color='r', alpha=0.7)\n",
    "\n",
    "# Menambahkan label, judul, dan legenda\n",
    "plt.xlabel('Kelas')\n",
    "plt.ylabel('Jumlah')\n",
    "plt.title('Perbandingan Data Aktual dan Hasil Klasifikasi (KNN)')\n",
    "plt.xticks(index + bar_width / 2, labels)\n",
    "plt.legend()\n",
    "\n",
    "# Menampilkan plot\n",
    "plt.tight_layout()\n",
    "plt.show()"
   ]
  },
  {
   "cell_type": "markdown",
   "id": "5db21abe",
   "metadata": {},
   "source": [
    "===================================================================================================="
   ]
  },
  {
   "cell_type": "markdown",
   "id": "e46513d6",
   "metadata": {},
   "source": [
    "## Pengujian"
   ]
  },
  {
   "cell_type": "markdown",
   "id": "257f5722",
   "metadata": {},
   "source": [
    "Setelah kita membuat model klasifikasi dengan menggunakan algoritma KNN dan Naive Bayes, hal selanjutnya yaitu kita perlu menguji algoritma mana yang paling baik di antara 2 algoritma tersebut. Metrics atau satuan pengukuran yang akan kita gunakan adalah Accuracy dan Precision"
   ]
  },
  {
   "cell_type": "markdown",
   "id": "387c2958",
   "metadata": {},
   "source": [
    "### Hitung nilai akurasi dan presisi dari model KNN"
   ]
  },
  {
   "cell_type": "code",
   "execution_count": 10,
   "id": "7a541803",
   "metadata": {},
   "outputs": [
    {
     "name": "stdout",
     "output_type": "stream",
     "text": [
      "Nilai akurasi KNN sebesar  0.5\n",
      "Nilai Presisi KNN sebesar  0.25\n",
      "              precision    recall  f1-score   support\n",
      "\n",
      "           1       0.25      0.17      0.20         6\n",
      "           2       0.58      0.70      0.64        10\n",
      "\n",
      "    accuracy                           0.50        16\n",
      "   macro avg       0.42      0.43      0.42        16\n",
      "weighted avg       0.46      0.50      0.47        16\n",
      "\n"
     ]
    }
   ],
   "source": [
    "# code untuk menghitung akurasi \n",
    "print(\"Nilai akurasi KNN sebesar \",accuracy_score(y_test, predicted))\n",
    "\n",
    "# code untuk menghitung presisi\n",
    "print(\"Nilai Presisi KNN sebesar \",precision_score(y_test, predicted))\n",
    "print(classification_report(y_test, predicted))\n"
   ]
  },
  {
   "cell_type": "markdown",
   "id": "d8dc99f1",
   "metadata": {},
   "source": [
    "### Hitung nilai akurasi dan presisi dari model Naive Bayes"
   ]
  },
  {
   "cell_type": "code",
   "execution_count": 14,
   "id": "4ce6fe19",
   "metadata": {},
   "outputs": [
    {
     "name": "stdout",
     "output_type": "stream",
     "text": [
      "Nilai akurasi Naive Bayes sebesar  0.625\n",
      "Nilai Presisi Naive Bayes sebesar  0.5\n",
      "              precision    recall  f1-score   support\n",
      "\n",
      "           1       0.50      1.00      0.67         6\n",
      "           2       1.00      0.40      0.57        10\n",
      "\n",
      "    accuracy                           0.62        16\n",
      "   macro avg       0.75      0.70      0.62        16\n",
      "weighted avg       0.81      0.62      0.61        16\n",
      "\n"
     ]
    }
   ],
   "source": [
    "# code untuk menghitung akurasi \n",
    "print(\"Nilai akurasi Naive Bayes sebesar \",accuracy_score(y_test, y_pred))\n",
    "\n",
    "# code untuk menghitung presisi\n",
    "print(\"Nilai Presisi Naive Bayes sebesar \",precision_score(y_test, y_pred))\n",
    "print(classification_report(y_test, y_pred))"
   ]
  },
  {
   "cell_type": "markdown",
   "id": "9f9d4eb0",
   "metadata": {},
   "source": [
    "===================================================================================================="
   ]
  },
  {
   "cell_type": "markdown",
   "id": "63cef365",
   "metadata": {},
   "source": [
    "## Kesimpulan"
   ]
  },
  {
   "cell_type": "markdown",
   "id": "0e3bcb18",
   "metadata": {},
   "source": [
    "Dari apa yang telah kalian lakukan dapat disimpulkan dengan menjawab beberapa pertanyaan berikut:\n",
    "1. Mengapa dataset perlu dilakukan tahap preprocessing?\n",
    "2. Mengapa dataset perlu dilakukan splitting?\n",
    "3. Bagaimana konsep dan cara kerja dari KNN dan Naive Bayes?\n",
    "4. Pada hasil pengujian manakan yang paling baik antara KNN dengan Naive Bayes pada dataset ini?\n",
    "5. Apa perbedaan dari akurasi dan presisi?"
   ]
  },
  {
   "cell_type": "markdown",
   "id": "1e3fa25b",
   "metadata": {},
   "source": [
    "Silahkan dilengkapi kode di atas. Pastikan tidak ada code error. Kemudian buat sebuah laporan yang menjelaskan\n",
    "step by step dari notebook ini. Jangan lupa cantumkan Nama, NIM, dan Kelas. Deadline pengerjaan 1 minggu\n",
    "\n",
    "Link pengumpulan : https://forms.gle/M7P91LwiZU6bqAEn6"
   ]
  }
 ],
 "metadata": {
  "kernelspec": {
   "display_name": "Python 3 (ipykernel)",
   "language": "python",
   "name": "python3"
  },
  "language_info": {
   "codemirror_mode": {
    "name": "ipython",
    "version": 3
   },
   "file_extension": ".py",
   "mimetype": "text/x-python",
   "name": "python",
   "nbconvert_exporter": "python",
   "pygments_lexer": "ipython3",
   "version": "3.10.14"
  }
 },
 "nbformat": 4,
 "nbformat_minor": 5
}
