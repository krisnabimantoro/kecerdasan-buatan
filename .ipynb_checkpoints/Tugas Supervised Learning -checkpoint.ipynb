{
 "cells": [
  {
   "cell_type": "markdown",
   "id": "f3b35cae",
   "metadata": {},
   "source": [
    "# Tugas Supervised Learning \n",
    "# Kecerdasan Buatan 2023/2024"
   ]
  },
  {
   "cell_type": "markdown",
   "id": "9a969910",
   "metadata": {},
   "source": [
    "Berikut adalah contoh aplikasi supervised learning untuk melakukan klasifikasi pada sebuah Dataset"
   ]
  },
  {
   "cell_type": "markdown",
   "id": "4bf1fb8c",
   "metadata": {},
   "source": [
    "Beberapa library yang harus diinstal dan disiapkan\n",
    "1. Sklearn (pip install scikit-learn)\n",
    "2. Pandas\n",
    "3. Numpy\n",
    "4. Matplotlib"
   ]
  },
  {
   "cell_type": "markdown",
   "id": "f794b707",
   "metadata": {},
   "source": [
    "===================================================================================================="
   ]
  },
  {
   "cell_type": "markdown",
   "id": "b193d9c8",
   "metadata": {},
   "source": [
    "### Import beberapa library yang akan kita gunakan"
   ]
  },
  {
   "cell_type": "code",
   "execution_count": 2,
   "id": "4a44fea0",
   "metadata": {},
   "outputs": [],
   "source": [
    "from sklearn.neighbors import KNeighborsClassifier\n",
    "from sklearn.naive_bayes import GaussianNB\n",
    "from sklearn.model_selection import train_test_split\n",
    "from sklearn.metrics import classification_report\n",
    "from sklearn.metrics import accuracy_score"
   ]
  },
  {
   "cell_type": "markdown",
   "id": "f55f69c3",
   "metadata": {},
   "source": [
    "### Download dataset dan import kedalam code "
   ]
  },
  {
   "cell_type": "markdown",
   "id": "16c5f4fd",
   "metadata": {},
   "source": [
    "Dataset yang kita gunakan adalah dataset hepatitis dari https://archive.ics.uci.edu/dataset/46/hepatitis"
   ]
  },
  {
   "cell_type": "code",
   "execution_count": 1,
   "id": "cf38aea3",
   "metadata": {},
   "outputs": [
    {
     "ename": "SyntaxError",
     "evalue": "invalid syntax (2523930475.py, line 1)",
     "output_type": "error",
     "traceback": [
      "\u001b[1;36m  Cell \u001b[1;32mIn[1], line 1\u001b[1;36m\u001b[0m\n\u001b[1;33m    pip install ucimlrepo\u001b[0m\n\u001b[1;37m        ^\u001b[0m\n\u001b[1;31mSyntaxError\u001b[0m\u001b[1;31m:\u001b[0m invalid syntax\n"
     ]
    }
   ],
   "source": [
    "\n",
    "from ucimlrepo import fetch_ucirepo \n",
    "  \n",
    "# fetch dataset \n",
    "hepatitis = fetch_ucirepo(id=46) \n",
    "  \n",
    "# data (as pandas dataframes) \n",
    "X = hepatitis.data.features \n",
    "y = hepatitis.data.targets \n",
    "  \n",
    "# metadata \n",
    "print(hepatitis.metadata) \n",
    "  \n",
    "# variable information \n",
    "print(hepatitis.variables) \n"
   ]
  },
  {
   "cell_type": "markdown",
   "id": "bd3614f1",
   "metadata": {},
   "source": [
    "### Preview dataset yang sudah kalian download "
   ]
  },
  {
   "cell_type": "code",
   "execution_count": 15,
   "id": "99a622e0",
   "metadata": {},
   "outputs": [],
   "source": [
    "#code untuk preview fitur fitur yang digunakan (clue:.head())\n",
    "\n",
    "#code untuk preview target yang mau diklasifikasikan berdasarkan apa saja"
   ]
  },
  {
   "cell_type": "markdown",
   "id": "d518503c",
   "metadata": {},
   "source": [
    "### Data Preprocessing"
   ]
  },
  {
   "cell_type": "markdown",
   "id": "f0ebef0e",
   "metadata": {},
   "source": [
    "Data processing sangat penting sekali dilakukan karena untuk mencari dan menganalisa data apakah ada terdapat data yang belum bersih. Maksud dari belum bersih adalah terdapat data yang hilang, NaN, Null, dll. Sebelum di proses lebih lanjut data harus sudah bersih"
   ]
  },
  {
   "cell_type": "code",
   "execution_count": 21,
   "id": "958e7866",
   "metadata": {},
   "outputs": [],
   "source": [
    "#code untuk preprocessing (clue: (Data Cleaning) cek apakah terdapat data yang hilang, Nan, atau Null. \n",
    "#Jika ada drop data tersebut by row atau by kolom. Silahkan dianalisa jika by row seperti apa dan by kolom seperti apa)"
   ]
  },
  {
   "cell_type": "markdown",
   "id": "a4f19537",
   "metadata": {},
   "source": [
    "### Lakukan Split data menjadi train dan test"
   ]
  },
  {
   "cell_type": "markdown",
   "id": "7a2223b7",
   "metadata": {},
   "source": [
    "Split data merupakan tahap penting dalam supervised learning. Karena algoritma nanti akan mempelajari data pada data train dan menguji hasil belajarnya pada data test"
   ]
  },
  {
   "cell_type": "code",
   "execution_count": 22,
   "id": "6ee4ca26",
   "metadata": {},
   "outputs": [],
   "source": [
    "#Code untuk splitting dataset"
   ]
  },
  {
   "cell_type": "markdown",
   "id": "dbae35bd",
   "metadata": {},
   "source": [
    "===================================================================================================="
   ]
  },
  {
   "cell_type": "markdown",
   "id": "b76ead52",
   "metadata": {},
   "source": [
    "### Proses Learning dengan Algoritma Supervised Learning"
   ]
  },
  {
   "cell_type": "markdown",
   "id": "9934fc72",
   "metadata": {},
   "source": [
    "Pada tugas ini kita akan menggunakan 2 algoritma\n",
    "1. KNN\n",
    "2. Naive Bayes"
   ]
  },
  {
   "cell_type": "markdown",
   "id": "99a28fee",
   "metadata": {},
   "source": [
    "### Algoritma KNN"
   ]
  },
  {
   "cell_type": "code",
   "execution_count": 23,
   "id": "a301ea90",
   "metadata": {},
   "outputs": [],
   "source": [
    "# code panggil fungsi KNN pada library sklearn\n",
    "\n",
    "# code masukkan datatrain pada KNN dan jalankan proses learningnya"
   ]
  },
  {
   "cell_type": "markdown",
   "id": "beb777e2",
   "metadata": {},
   "source": [
    "### Uji hasil Learning KNN"
   ]
  },
  {
   "cell_type": "code",
   "execution_count": 24,
   "id": "33c3ced2",
   "metadata": {},
   "outputs": [],
   "source": [
    "# code untuk pengujian hasil learning menggunakan KNN pada Datatest\n",
    "\n",
    "# code hasil output\n",
    "\n",
    "# code visualisasi hasil output dengan membandingkan data aktual dengan data hasil klasifikasi"
   ]
  },
  {
   "cell_type": "markdown",
   "id": "30603b5f",
   "metadata": {},
   "source": [
    "### Algoritma Naive Bayes"
   ]
  },
  {
   "cell_type": "code",
   "execution_count": 25,
   "id": "b88b7a6f",
   "metadata": {},
   "outputs": [],
   "source": [
    "# code panggil fungsi Naive Bayes pada library sklearn\n",
    "\n",
    "# code masukkan datatrain pada KNN dan jalankan proses learningnya"
   ]
  },
  {
   "cell_type": "markdown",
   "id": "a580c33b",
   "metadata": {},
   "source": [
    "### Uji hasil Learning Naive Bayes"
   ]
  },
  {
   "cell_type": "code",
   "execution_count": 26,
   "id": "2af3f296",
   "metadata": {},
   "outputs": [],
   "source": [
    "# code untuk pengujian hasil learning menggunakan Naive Bayes pada Datatest\n",
    "\n",
    "# code hasil output\n",
    "\n",
    "# code visualisasi hasil output dengan membandingkan data aktual dengan data hasil klasifikasi"
   ]
  },
  {
   "cell_type": "markdown",
   "id": "5db21abe",
   "metadata": {},
   "source": [
    "===================================================================================================="
   ]
  },
  {
   "cell_type": "markdown",
   "id": "e46513d6",
   "metadata": {},
   "source": [
    "## Pengujian"
   ]
  },
  {
   "cell_type": "markdown",
   "id": "257f5722",
   "metadata": {},
   "source": [
    "Setelah kita membuat model klasifikasi dengan menggunakan algoritma KNN dan Naive Bayes, hal selanjutnya yaitu kita perlu menguji algoritma mana yang paling baik di antara 2 algoritma tersebut. Metrics atau satuan pengukuran yang akan kita gunakan adalah Accuracy dan Precision"
   ]
  },
  {
   "cell_type": "markdown",
   "id": "387c2958",
   "metadata": {},
   "source": [
    "### Hitung nilai akurasi dan presisi dari model KNN"
   ]
  },
  {
   "cell_type": "code",
   "execution_count": 27,
   "id": "7a541803",
   "metadata": {},
   "outputs": [],
   "source": [
    "# code untuk menghitung akurasi \n",
    "\n",
    "# code untuk menghitung presisi"
   ]
  },
  {
   "cell_type": "markdown",
   "id": "d8dc99f1",
   "metadata": {},
   "source": [
    "### Hitung nilai akurasi dan presisi dari model Naive Bayes"
   ]
  },
  {
   "cell_type": "code",
   "execution_count": 28,
   "id": "4ce6fe19",
   "metadata": {},
   "outputs": [],
   "source": [
    "# code untuk menghitung akurasi \n",
    "\n",
    "# code untuk menghitung presisi"
   ]
  },
  {
   "cell_type": "markdown",
   "id": "9f9d4eb0",
   "metadata": {},
   "source": [
    "===================================================================================================="
   ]
  },
  {
   "cell_type": "markdown",
   "id": "63cef365",
   "metadata": {},
   "source": [
    "## Kesimpulan"
   ]
  },
  {
   "cell_type": "markdown",
   "id": "0e3bcb18",
   "metadata": {},
   "source": [
    "Dari apa yang telah kalian lakukan dapat disimpulkan dengan menjawab beberapa pertanyaan berikut:\n",
    "1. Mengapa dataset perlu dilakukan tahap preprocessing?\n",
    "2. Mengapa dataset perlu dilakukan splitting?\n",
    "3. Bagaimana konsep dan cara kerja dari KNN dan Naive Bayes?\n",
    "4. Pada hasil pengujian manakan yang paling baik antara KNN dengan Naive Bayes pada dataset ini?\n",
    "5. Apa perbedaan dari akurasi dan presisi?"
   ]
  },
  {
   "cell_type": "markdown",
   "id": "1e3fa25b",
   "metadata": {},
   "source": [
    "Silahkan dilengkapi kode di atas. Pastikan tidak ada code error. Kemudian buat sebuah laporan yang menjelaskan\n",
    "step by step dari notebook ini. Jangan lupa cantumkan Nama, NIM, dan Kelas. Deadline pengerjaan 1 minggu\n",
    "\n",
    "Link pengumpulan : https://forms.gle/M7P91LwiZU6bqAEn6"
   ]
  }
 ],
 "metadata": {
  "kernelspec": {
   "display_name": "Python 3 (ipykernel)",
   "language": "python",
   "name": "python3"
  },
  "language_info": {
   "codemirror_mode": {
    "name": "ipython",
    "version": 3
   },
   "file_extension": ".py",
   "mimetype": "text/x-python",
   "name": "python",
   "nbconvert_exporter": "python",
   "pygments_lexer": "ipython3",
   "version": "3.10.14"
  }
 },
 "nbformat": 4,
 "nbformat_minor": 5
}
